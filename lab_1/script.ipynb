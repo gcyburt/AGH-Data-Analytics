# %% [markdown]
# Data Analytics - Lab 1
# GC

# %%
import numpy as np
import matplotlib.pyplot as plt

# %% [markdown]
# 2. Using numpy.random generate arrays

# %%
resA = np.random.uniform(0, 1, size=1000)

# %%
avg = 0
std_dev = 1
resB = np.random.normal(loc=avg, scale=std_dev, size=1000)

# %%
avg = 0
std_dev = 10
resC = np.random.normal(loc=avg, scale=std_dev, size=1000)

# %%
alpha = [1.0, 2.0, 3.0]
beta = [1.0, 2.0, 9.0]
resD1 = np.random.beta(a=alpha[0], b=beta[0], size=1000)
resD2 = np.random.beta(a=alpha[1], b=beta[1], size=1000)
resD3 = np.random.beta(a=alpha[2], b=beta[2], size=1000)

# %%
avg = [0, 0]
cov1 = [[1, 0], [0, 1]]
cov2 = [[2, 1], [1, 2]]

resE1 = np.random.multivariate_normal(mean=avg, cov=cov1, size=10000)
resE2 = np.random.multivariate_normal(mean=avg, cov=cov2, size=10000)

# %% [markdown]
# 3. For one dimensional distributions plot histograms. Assign bin values to represent the geometry of distribution. Compare the histograms (normalized) with plots of analytical formulas for distributions (see eg. Wikipedia).

# %%
# uniform distribution
n_bins=25
plt.figure()
A_hist, A_bins, p = plt.hist(resA, bins=n_bins)
plt.title("Uniform distribution histogram")
plt.xlabel("value")
plt.ylabel("samples count")
plt.show()

# %%
# normal distribution (mean=0, std_dev = 1)
n_bins=25
plt.figure()
B_hist, B_bins, p = plt.hist(resB, bins=n_bins)
plt.title("Normal distribution histogram")
plt.xlabel("value")
plt.ylabel("samples count")
plt.show()

# %%
# normal distribution (mean=0, std_dev = 10)
n_bins=25
plt.figure()
C_hist, C_bins, p = plt.hist(resC, bins=n_bins)
plt.title("Normal distribution histogram")
plt.xlabel("value")
plt.ylabel("samples count")
plt.show()

# %%
# beta distribution
n_bins=25
plt.figure()
D1_hist, D1_bins, p = plt.hist(resD1, bins=n_bins)
plt.title("Beta distribution histogram nr 1")
plt.xlabel("value")
plt.ylabel("samples count")
plt.show()

# beta distribution
n_bins=25
plt.figure()
D2_hist, D2_bins, p = plt.hist(resD2, bins=n_bins)
plt.title("Beta distribution histogram nr 2")
plt.xlabel("value")
plt.ylabel("samples count")
plt.show()

# beta distribution
n_bins=25
plt.figure()
D3_hist, D3_bins, p = plt.hist(resD3, bins=n_bins)
plt.title("Beta distribution histogram nr 3")
plt.xlabel("value")
plt.ylabel("samples count")
plt.show()

# %%
#Comparison
A_hist_norm = A_hist / float(max(A_hist))
width = A_bins[1] - A_bins[0]
x = A_bins[:-1] + width/2
plt.bar(x, A_hist_norm, width=width)

x = np.linspace(0, 1, 50)

plt.plot(x, [1] * 50, 'r')
plt.title("Comparison between the histogram and the plot of analytical formula for uniform distribution")
plt.xlabel("value")
plt.ylabel("samples count")
plt.show()

# %%
B_hist_norm = B_hist / float(max(B_hist))
width = B_bins[1] - B_bins[0]
x = B_bins[:-1] + width/2
plt.bar(x, B_hist_norm, width=width)

mean = 0
std_dev = 1

x = np.linspace(B_bins[0], B_bins[-1], 50)
y = np.exp((-1 / 2 * ((x-mean)/std_dev)**2) / 1 * np.sqrt(2 * np.pi))
plt.plot(x, y, 'r')
plt.title("Comparison between the histogram and the plot of analytical formula for normal distribution")
plt.xlabel("value")
plt.ylabel("samples count")
plt.show()

# %%
C_hist_norm = C_hist / float(max(C_hist))
width = C_bins[1] - C_bins[0]
x = C_bins[:-1] + width/2
plt.bar(x, C_hist_norm, width=width)

mean = 0
std_dev = 10

x = np.linspace(C_bins[0], C_bins[-1], 50)
y = np.exp((-1 / 2 * ((x-mean)/std_dev)**2) / 1 * np.sqrt(2 * np.pi))
plt.plot(x, y, 'r')
plt.title("Comparison between the histogram and the plot of analytical formula for normal distribution")
plt.xlabel("value")
plt.ylabel("samples count")
plt.show()

# %% [markdown]
# 

# %% [markdown]
# 4. For two-dimensional distributions use hist2d method from pyplot. Try to analyze influence of bins. Try different 2d histogram functions (ex. from seaborn).

# %%
x1=[el[0] for el in resE1]
y1=[el[1] for el in resE1]

plt.hist2d(x1,y1,bins=10)
plt.title("Two-dimensional distribution histogram 1 using hist2d")
plt.xlabel("x")
plt.ylabel("y")
plt.show()

x2=[el[0] for el in resE2]
y2=[el[1] for el in resE2]

plt.hist2d(x2,y2,bins=10)
plt.title("Two-dimensional distribution histogram 2 using hist2d")
plt.xlabel("x")
plt.ylabel("y")
plt.show()

import seaborn as sb

sb.histplot(resE1,x=x1,y=y1)
plt.title("Two-dimensional distribution histogram 1 using seaborn")
plt.xlabel("x")
plt.ylabel("y")
plt.show()

sb.histplot(resE2,x=x2,y=y2)
plt.title("Two-dimensional distribution histogram 2 using seaborn")
plt.xlabel("x")
plt.ylabel("y")
plt.show()



