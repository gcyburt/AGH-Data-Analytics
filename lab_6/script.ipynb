{
 "cells": [
  {
   "attachments": {},
   "cell_type": "markdown",
   "metadata": {},
   "source": [
    "Exercise 1"
   ]
  },
  {
   "cell_type": "code",
   "execution_count": 1,
   "metadata": {},
   "outputs": [
    {
     "name": "stderr",
     "output_type": "stream",
     "text": [
      "/usr/local/lib/python3.9/site-packages/tqdm/auto.py:22: TqdmWarning: IProgress not found. Please update jupyter and ipywidgets. See https://ipywidgets.readthedocs.io/en/stable/user_install.html\n",
      "  from .autonotebook import tqdm as notebook_tqdm\n"
     ]
    }
   ],
   "source": [
    "from cmdstanpy import CmdStanModel\n",
    "import arviz as az\n",
    "import numpy as np\n",
    "import scipy.stats as stats\n",
    "import seaborn as sns\n",
    "\n",
    "import matplotlib.pyplot as plt\n",
    "import pandas as pd"
   ]
  },
  {
   "cell_type": "code",
   "execution_count": 3,
   "metadata": {},
   "outputs": [
    {
     "name": "stderr",
     "output_type": "stream",
     "text": [
      "INFO:cmdstanpy:found newer exe file, not recompiling\n",
      "INFO:cmdstanpy:found newer exe file, not recompiling\n"
     ]
    }
   ],
   "source": [
    "N = 100*(6+6)\n",
    "data = dict(N = N)\n",
    "model_1=CmdStanModel(stan_file='code_1.stan')\n",
    "model_2=CmdStanModel(stan_file='code_2.stan')"
   ]
  },
  {
   "cell_type": "code",
   "execution_count": 4,
   "metadata": {},
   "outputs": [
    {
     "name": "stderr",
     "output_type": "stream",
     "text": [
      "INFO:cmdstanpy:CmdStan start processing\n",
      "chain 1 |\u001b[34m██████████\u001b[0m| 00:00 Sampling completed"
     ]
    },
    {
     "name": "stdout",
     "output_type": "stream",
     "text": [
      "                                                                                "
     ]
    },
    {
     "name": "stderr",
     "output_type": "stream",
     "text": [
      "\n",
      "INFO:cmdstanpy:CmdStan done processing.\n",
      "INFO:cmdstanpy:CmdStan start processing\n"
     ]
    },
    {
     "name": "stdout",
     "output_type": "stream",
     "text": [
      "\n"
     ]
    },
    {
     "name": "stderr",
     "output_type": "stream",
     "text": [
      "chain 1 |\u001b[34m██████████\u001b[0m| 00:00 Sampling completed"
     ]
    },
    {
     "name": "stdout",
     "output_type": "stream",
     "text": [
      "                                                                                "
     ]
    },
    {
     "name": "stderr",
     "output_type": "stream",
     "text": [
      "\n",
      "INFO:cmdstanpy:CmdStan done processing.\n"
     ]
    },
    {
     "name": "stdout",
     "output_type": "stream",
     "text": [
      "\n"
     ]
    }
   ],
   "source": [
    "sim1=model_1.sample(\n",
    "   data=data,\n",
    "   iter_sampling=1,\n",
    "   iter_warmup=0,\n",
    "   chains=1,\n",
    "   fixed_param=True,\n",
    "   seed=24072000,\n",
    ")\n",
    "\n",
    "sim2=model_2.sample(\n",
    "   data=data,\n",
    "   iter_sampling=1,\n",
    "   iter_warmup=0,\n",
    "   chains=1,\n",
    "   fixed_param=True,\n",
    "   seed=24072000,\n",
    ")"
   ]
  },
  {
   "attachments": {},
   "cell_type": "markdown",
   "metadata": {},
   "source": [
    "Exercise 2"
   ]
  },
  {
   "cell_type": "code",
   "execution_count": 12,
   "metadata": {},
   "outputs": [
    {
     "name": "stderr",
     "output_type": "stream",
     "text": [
      "INFO:cmdstanpy:found newer exe file, not recompiling\n",
      "INFO:cmdstanpy:found newer exe file, not recompiling\n"
     ]
    }
   ],
   "source": [
    "model_3=CmdStanModel(stan_file='code_3.stan')\n",
    "model_4=CmdStanModel(stan_file='code_4.stan')"
   ]
  },
  {
   "cell_type": "code",
   "execution_count": 14,
   "metadata": {},
   "outputs": [
    {
     "name": "stderr",
     "output_type": "stream",
     "text": [
      "INFO:cmdstanpy:CmdStan start processing\n",
      "chain 1 |\u001b[34m██████████\u001b[0m| 00:00 Sampling completed"
     ]
    },
    {
     "name": "stdout",
     "output_type": "stream",
     "text": [
      "                                                                                "
     ]
    },
    {
     "name": "stderr",
     "output_type": "stream",
     "text": [
      "\n",
      "INFO:cmdstanpy:CmdStan done processing.\n",
      "INFO:cmdstanpy:CmdStan start processing\n"
     ]
    },
    {
     "name": "stdout",
     "output_type": "stream",
     "text": [
      "\n"
     ]
    },
    {
     "name": "stderr",
     "output_type": "stream",
     "text": [
      "chain 1 |\u001b[34m██████████\u001b[0m| 00:00 Sampling completed"
     ]
    },
    {
     "name": "stdout",
     "output_type": "stream",
     "text": [
      "                                                                                "
     ]
    },
    {
     "name": "stderr",
     "output_type": "stream",
     "text": [
      "\n",
      "INFO:cmdstanpy:CmdStan done processing.\n"
     ]
    },
    {
     "name": "stdout",
     "output_type": "stream",
     "text": [
      "\n"
     ]
    }
   ],
   "source": [
    "data = dict(N = N, y = sim1.draws_pd().loc[0,'y[1]':f\"y[{N}]\"].values)\n",
    "sim3=model_3.sample(\n",
    "   data=data,\n",
    "   iter_sampling=1,\n",
    "   iter_warmup=0,\n",
    "   chains=1,\n",
    "   fixed_param=True,\n",
    "   seed=24072000,\n",
    ")\n",
    "\n",
    "data = dict(N = N, y = sim2.draws_pd().loc[0,'y[1]':f\"y[{N}]\"].values)\n",
    "sim4=model_4.sample(\n",
    "   data=data,\n",
    "   iter_sampling=1,\n",
    "   iter_warmup=0,\n",
    "   chains=1,\n",
    "   fixed_param=True,\n",
    "   seed=24072000,\n",
    ")"
   ]
  },
  {
   "cell_type": "code",
   "execution_count": 16,
   "metadata": {},
   "outputs": [],
   "source": [
    "fit_1 = az.from_cmdstanpy(posterior=sim3)\n",
    "fit_2 = az.from_cmdstanpy(posterior=sim4)"
   ]
  },
  {
   "cell_type": "code",
   "execution_count": 22,
   "metadata": {},
   "outputs": [],
   "source": [
    "waic_comparison = az.compare({\"model_normal\": fit_1, \"model_chi\": fit_2}, ic=\"waic\", scale=\"deviance\")"
   ]
  },
  {
   "cell_type": "code",
   "execution_count": 23,
   "metadata": {},
   "outputs": [
    {
     "data": {
      "image/png": "[encoded data removed]",
      "text/plain": [
       "<Figure size 432x144 with 1 Axes>"
      ]
     },
     "metadata": {
      "needs_background": "light"
     },
     "output_type": "display_data"
    }
   ],
   "source": [
    "az.plot_compare(waic_comparison)\n",
    "plt.title(\"WAIC comparison\")\n",
    "plt.show()"
   ]
  },
  {
   "cell_type": "code",
   "execution_count": 24,
   "metadata": {},
   "outputs": [
    {
     "ename": "IndexError",
     "evalue": "Encountered error in ic computation of compare.",
     "output_type": "error",
     "traceback": [
      "\u001b[0;31m---------------------------------------------------------------------------\u001b[0m",
      "\u001b[0;31mIndexError\u001b[0m                                Traceback (most recent call last)",
      "File \u001b[0;32m/usr/local/lib/python3.9/site-packages/arviz/stats/stats.py:455\u001b[0m, in \u001b[0;36m_calculate_ics\u001b[0;34m(compare_dict, scale, ic, var_name)\u001b[0m\n\u001b[1;32m    454\u001b[0m \u001b[39mtry\u001b[39;00m:\n\u001b[0;32m--> 455\u001b[0m     compare_dict[name] \u001b[39m=\u001b[39m ic_func(\n\u001b[1;32m    456\u001b[0m         convert_to_inference_data(dataset),\n\u001b[1;32m    457\u001b[0m         pointwise\u001b[39m=\u001b[39;49m\u001b[39mTrue\u001b[39;49;00m,\n\u001b[1;32m    458\u001b[0m         scale\u001b[39m=\u001b[39;49mscale,\n\u001b[1;32m    459\u001b[0m         var_name\u001b[39m=\u001b[39;49mvar_name,\n\u001b[1;32m    460\u001b[0m     )\n\u001b[1;32m    461\u001b[0m \u001b[39mexcept\u001b[39;00m \u001b[39mException\u001b[39;00m \u001b[39mas\u001b[39;00m e:\n",
      "File \u001b[0;32m/usr/local/lib/python3.9/site-packages/arviz/stats/stats.py:806\u001b[0m, in \u001b[0;36mloo\u001b[0;34m(data, pointwise, var_name, reff, scale)\u001b[0m\n\u001b[1;32m    802\u001b[0m         reff \u001b[39m=\u001b[39m (\n\u001b[1;32m    803\u001b[0m             np\u001b[39m.\u001b[39mhstack([ess_p[v]\u001b[39m.\u001b[39mvalues\u001b[39m.\u001b[39mflatten() \u001b[39mfor\u001b[39;00m v \u001b[39min\u001b[39;00m ess_p\u001b[39m.\u001b[39mdata_vars])\u001b[39m.\u001b[39mmean() \u001b[39m/\u001b[39m n_samples\n\u001b[1;32m    804\u001b[0m         )\n\u001b[0;32m--> 806\u001b[0m log_weights, pareto_shape \u001b[39m=\u001b[39m psislw(\u001b[39m-\u001b[39;49mlog_likelihood, reff)\n\u001b[1;32m    807\u001b[0m log_weights \u001b[39m+\u001b[39m\u001b[39m=\u001b[39m log_likelihood\n",
      "File \u001b[0;32m/usr/local/lib/python3.9/site-packages/arviz/stats/stats.py:945\u001b[0m, in \u001b[0;36mpsislw\u001b[0;34m(log_weights, reff)\u001b[0m\n\u001b[1;32m    944\u001b[0m kwargs \u001b[39m=\u001b[39m {\u001b[39m\"\u001b[39m\u001b[39minput_core_dims\u001b[39m\u001b[39m\"\u001b[39m: [[\u001b[39m\"\u001b[39m\u001b[39m__sample__\u001b[39m\u001b[39m\"\u001b[39m]], \u001b[39m\"\u001b[39m\u001b[39moutput_core_dims\u001b[39m\u001b[39m\"\u001b[39m: [[\u001b[39m\"\u001b[39m\u001b[39m__sample__\u001b[39m\u001b[39m\"\u001b[39m], []]}\n\u001b[0;32m--> 945\u001b[0m log_weights, pareto_shape \u001b[39m=\u001b[39m _wrap_xarray_ufunc(\n\u001b[1;32m    946\u001b[0m     _psislw,\n\u001b[1;32m    947\u001b[0m     log_weights,\n\u001b[1;32m    948\u001b[0m     ufunc_kwargs\u001b[39m=\u001b[39;49mufunc_kwargs,\n\u001b[1;32m    949\u001b[0m     func_kwargs\u001b[39m=\u001b[39;49mfunc_kwargs,\n\u001b[1;32m    950\u001b[0m     \u001b[39m*\u001b[39;49m\u001b[39m*\u001b[39;49mkwargs,\n\u001b[1;32m    951\u001b[0m )\n\u001b[1;32m    952\u001b[0m \u001b[39mif\u001b[39;00m \u001b[39misinstance\u001b[39m(log_weights, xr\u001b[39m.\u001b[39mDataArray):\n",
      "File \u001b[0;32m/usr/local/lib/python3.9/site-packages/arviz/utils.py:757\u001b[0m, in \u001b[0;36mconditional_dask.<locals>.wrapper\u001b[0;34m(*args, **kwargs)\u001b[0m\n\u001b[1;32m    756\u001b[0m \u001b[39melse\u001b[39;00m:\n\u001b[0;32m--> 757\u001b[0m     \u001b[39mreturn\u001b[39;00m func(\u001b[39m*\u001b[39;49margs, \u001b[39m*\u001b[39;49m\u001b[39m*\u001b[39;49mkwargs)\n",
      "File \u001b[0;32m/usr/local/lib/python3.9/site-packages/arviz/stats/stats_utils.py:236\u001b[0m, in \u001b[0;36mwrap_xarray_ufunc\u001b[0;34m(ufunc, ufunc_kwargs, func_args, func_kwargs, dask_kwargs, *datasets, **kwargs)\u001b[0m\n\u001b[1;32m    234\u001b[0m callable_ufunc \u001b[39m=\u001b[39m make_ufunc(ufunc, \u001b[39m*\u001b[39m\u001b[39m*\u001b[39mufunc_kwargs)\n\u001b[0;32m--> 236\u001b[0m \u001b[39mreturn\u001b[39;00m apply_ufunc(\n\u001b[1;32m    237\u001b[0m     callable_ufunc, \u001b[39m*\u001b[39;49mdatasets, \u001b[39m*\u001b[39;49mfunc_args, kwargs\u001b[39m=\u001b[39;49mfunc_kwargs, \u001b[39m*\u001b[39;49m\u001b[39m*\u001b[39;49mdask_kwargs, \u001b[39m*\u001b[39;49m\u001b[39m*\u001b[39;49mkwargs\n\u001b[1;32m    238\u001b[0m )\n",
      "File \u001b[0;32m/usr/local/lib/python3.9/site-packages/xarray/core/computation.py:1159\u001b[0m, in \u001b[0;36mapply_ufunc\u001b[0;34m(func, input_core_dims, output_core_dims, exclude_dims, vectorize, join, dataset_join, dataset_fill_value, keep_attrs, kwargs, dask, output_dtypes, output_sizes, meta, dask_gufunc_kwargs, *args)\u001b[0m\n\u001b[1;32m   1158\u001b[0m \u001b[39melif\u001b[39;00m \u001b[39many\u001b[39m(\u001b[39misinstance\u001b[39m(a, DataArray) \u001b[39mfor\u001b[39;00m a \u001b[39min\u001b[39;00m args):\n\u001b[0;32m-> 1159\u001b[0m     \u001b[39mreturn\u001b[39;00m apply_dataarray_vfunc(\n\u001b[1;32m   1160\u001b[0m         variables_vfunc,\n\u001b[1;32m   1161\u001b[0m         \u001b[39m*\u001b[39;49margs,\n\u001b[1;32m   1162\u001b[0m         signature\u001b[39m=\u001b[39;49msignature,\n\u001b[1;32m   1163\u001b[0m         join\u001b[39m=\u001b[39;49mjoin,\n\u001b[1;32m   1164\u001b[0m         exclude_dims\u001b[39m=\u001b[39;49mexclude_dims,\n\u001b[1;32m   1165\u001b[0m         keep_attrs\u001b[39m=\u001b[39;49mkeep_attrs,\n\u001b[1;32m   1166\u001b[0m     )\n\u001b[1;32m   1167\u001b[0m \u001b[39m# feed Variables directly through apply_variable_ufunc\u001b[39;00m\n",
      "File \u001b[0;32m/usr/local/lib/python3.9/site-packages/xarray/core/computation.py:286\u001b[0m, in \u001b[0;36mapply_dataarray_vfunc\u001b[0;34m(func, signature, join, exclude_dims, keep_attrs, *args)\u001b[0m\n\u001b[1;32m    285\u001b[0m data_vars \u001b[39m=\u001b[39m [\u001b[39mgetattr\u001b[39m(a, \u001b[39m\"\u001b[39m\u001b[39mvariable\u001b[39m\u001b[39m\"\u001b[39m, a) \u001b[39mfor\u001b[39;00m a \u001b[39min\u001b[39;00m args]\n\u001b[0;32m--> 286\u001b[0m result_var \u001b[39m=\u001b[39m func(\u001b[39m*\u001b[39;49mdata_vars)\n\u001b[1;32m    288\u001b[0m \u001b[39mif\u001b[39;00m signature\u001b[39m.\u001b[39mnum_outputs \u001b[39m>\u001b[39m \u001b[39m1\u001b[39m:\n",
      "File \u001b[0;32m/usr/local/lib/python3.9/site-packages/xarray/core/computation.py:727\u001b[0m, in \u001b[0;36mapply_variable_ufunc\u001b[0;34m(func, signature, exclude_dims, dask, output_dtypes, vectorize, keep_attrs, dask_gufunc_kwargs, *args)\u001b[0m\n\u001b[1;32m    723\u001b[0m         func \u001b[39m=\u001b[39m _vectorize(\n\u001b[1;32m    724\u001b[0m             func, signature, output_dtypes\u001b[39m=\u001b[39moutput_dtypes, exclude_dims\u001b[39m=\u001b[39mexclude_dims\n\u001b[1;32m    725\u001b[0m         )\n\u001b[0;32m--> 727\u001b[0m result_data \u001b[39m=\u001b[39m func(\u001b[39m*\u001b[39;49minput_data)\n\u001b[1;32m    729\u001b[0m \u001b[39mif\u001b[39;00m signature\u001b[39m.\u001b[39mnum_outputs \u001b[39m==\u001b[39m \u001b[39m1\u001b[39m:\n",
      "File \u001b[0;32m/usr/local/lib/python3.9/site-packages/arviz/stats/stats_utils.py:166\u001b[0m, in \u001b[0;36mmake_ufunc.<locals>._multi_ufunc\u001b[0;34m(out, out_shape, *args, **kwargs)\u001b[0m\n\u001b[1;32m    165\u001b[0m arys_idx \u001b[39m=\u001b[39m [ary[idx]\u001b[39m.\u001b[39mravel() \u001b[39mif\u001b[39;00m ravel \u001b[39melse\u001b[39;00m ary[idx] \u001b[39mfor\u001b[39;00m ary \u001b[39min\u001b[39;00m arys]\n\u001b[0;32m--> 166\u001b[0m results \u001b[39m=\u001b[39m func(\u001b[39m*\u001b[39;49marys_idx, \u001b[39m*\u001b[39;49margs[n_input:], \u001b[39m*\u001b[39;49m\u001b[39m*\u001b[39;49mkwargs)\n\u001b[1;32m    167\u001b[0m \u001b[39mfor\u001b[39;00m i, res \u001b[39min\u001b[39;00m \u001b[39menumerate\u001b[39m(results):\n",
      "File \u001b[0;32m/usr/local/lib/python3.9/site-packages/arviz/stats/stats.py:985\u001b[0m, in \u001b[0;36m_psislw\u001b[0;34m(log_weights, cutoff_ind, cutoffmin, k_min)\u001b[0m\n\u001b[1;32m    984\u001b[0m \u001b[39m# divide log weights into body and right tail\u001b[39;00m\n\u001b[0;32m--> 985\u001b[0m xcutoff \u001b[39m=\u001b[39m \u001b[39mmax\u001b[39m(x[x_sort_ind[cutoff_ind]], cutoffmin)\n\u001b[1;32m    987\u001b[0m expxcutoff \u001b[39m=\u001b[39m np\u001b[39m.\u001b[39mexp(xcutoff)\n",
      "\u001b[0;31mIndexError\u001b[0m: index -2 is out of bounds for axis 0 with size 1",
      "\nThe above exception was the direct cause of the following exception:\n",
      "\u001b[0;31mIndexError\u001b[0m                                Traceback (most recent call last)",
      "File \u001b[0;32m/usr/local/lib/python3.9/site-packages/arviz/stats/stats.py:171\u001b[0m, in \u001b[0;36mcompare\u001b[0;34m(compare_dict, ic, method, b_samples, alpha, seed, scale, var_name)\u001b[0m\n\u001b[1;32m    170\u001b[0m \u001b[39mtry\u001b[39;00m:\n\u001b[0;32m--> 171\u001b[0m     (ics_dict, scale, ic) \u001b[39m=\u001b[39m _calculate_ics(compare_dict, scale\u001b[39m=\u001b[39;49mscale, ic\u001b[39m=\u001b[39;49mic, var_name\u001b[39m=\u001b[39;49mvar_name)\n\u001b[1;32m    172\u001b[0m \u001b[39mexcept\u001b[39;00m \u001b[39mException\u001b[39;00m \u001b[39mas\u001b[39;00m e:\n",
      "File \u001b[0;32m/usr/local/lib/python3.9/site-packages/arviz/stats/stats.py:462\u001b[0m, in \u001b[0;36m_calculate_ics\u001b[0;34m(compare_dict, scale, ic, var_name)\u001b[0m\n\u001b[1;32m    461\u001b[0m         \u001b[39mexcept\u001b[39;00m \u001b[39mException\u001b[39;00m \u001b[39mas\u001b[39;00m e:\n\u001b[0;32m--> 462\u001b[0m             \u001b[39mraise\u001b[39;00m e\u001b[39m.\u001b[39m\u001b[39m__class__\u001b[39m(\n\u001b[1;32m    463\u001b[0m                 \u001b[39mf\u001b[39m\u001b[39m\"\u001b[39m\u001b[39mEncountered error trying to compute \u001b[39m\u001b[39m{\u001b[39;00mic\u001b[39m}\u001b[39;00m\u001b[39m from model \u001b[39m\u001b[39m{\u001b[39;00mname\u001b[39m}\u001b[39;00m\u001b[39m.\u001b[39m\u001b[39m\"\u001b[39m\n\u001b[1;32m    464\u001b[0m             ) \u001b[39mfrom\u001b[39;00m \u001b[39me\u001b[39;00m\n\u001b[1;32m    465\u001b[0m \u001b[39mreturn\u001b[39;00m (compare_dict, scale, ic)\n",
      "\u001b[0;31mIndexError\u001b[0m: Encountered error trying to compute loo from model model_normal.",
      "\nThe above exception was the direct cause of the following exception:\n",
      "\u001b[0;31mIndexError\u001b[0m                                Traceback (most recent call last)",
      "\u001b[1;32m/home/AGH-Data-Analytics/lab_6/script.ipynb Cell 11\u001b[0m in \u001b[0;36m<cell line: 1>\u001b[0;34m()\u001b[0m\n\u001b[0;32m----> <a href='vscode-notebook-cell://attached-container%2B7b22636f6e7461696e65724e616d65223a222f6e616d655f6f665f636f6e7461696e6572227d/home/AGH-Data-Analytics/lab_6/script.ipynb#X13sdnNjb2RlLXJlbW90ZQ%3D%3D?line=0'>1</a>\u001b[0m loo_comparison \u001b[39m=\u001b[39m az\u001b[39m.\u001b[39;49mcompare({\u001b[39m\"\u001b[39;49m\u001b[39mmodel_normal\u001b[39;49m\u001b[39m\"\u001b[39;49m: fit_1, \u001b[39m\"\u001b[39;49m\u001b[39mmodel_chi\u001b[39;49m\u001b[39m\"\u001b[39;49m: fit_2}, ic\u001b[39m=\u001b[39;49m\u001b[39m\"\u001b[39;49m\u001b[39mloo\u001b[39;49m\u001b[39m\"\u001b[39;49m, scale\u001b[39m=\u001b[39;49m\u001b[39m\"\u001b[39;49m\u001b[39mdeviance\u001b[39;49m\u001b[39m\"\u001b[39;49m)\n",
      "File \u001b[0;32m/usr/local/lib/python3.9/site-packages/arviz/stats/stats.py:173\u001b[0m, in \u001b[0;36mcompare\u001b[0;34m(compare_dict, ic, method, b_samples, alpha, seed, scale, var_name)\u001b[0m\n\u001b[1;32m    171\u001b[0m     (ics_dict, scale, ic) \u001b[39m=\u001b[39m _calculate_ics(compare_dict, scale\u001b[39m=\u001b[39mscale, ic\u001b[39m=\u001b[39mic, var_name\u001b[39m=\u001b[39mvar_name)\n\u001b[1;32m    172\u001b[0m \u001b[39mexcept\u001b[39;00m \u001b[39mException\u001b[39;00m \u001b[39mas\u001b[39;00m e:\n\u001b[0;32m--> 173\u001b[0m     \u001b[39mraise\u001b[39;00m e\u001b[39m.\u001b[39m\u001b[39m__class__\u001b[39m(\u001b[39m\"\u001b[39m\u001b[39mEncountered error in ic computation of compare.\u001b[39m\u001b[39m\"\u001b[39m) \u001b[39mfrom\u001b[39;00m \u001b[39me\u001b[39;00m\n\u001b[1;32m    174\u001b[0m names \u001b[39m=\u001b[39m \u001b[39mlist\u001b[39m(ics_dict\u001b[39m.\u001b[39mkeys())\n\u001b[1;32m    175\u001b[0m \u001b[39mif\u001b[39;00m ic \u001b[39m==\u001b[39m \u001b[39m\"\u001b[39m\u001b[39mloo\u001b[39m\u001b[39m\"\u001b[39m:\n",
      "\u001b[0;31mIndexError\u001b[0m: Encountered error in ic computation of compare."
     ]
    }
   ],
   "source": [
    "loo_comparison = az.compare({\"model_normal\": fit_1, \"model_chi\": fit_2}, ic=\"loo\", scale=\"deviance\")\n"
   ]
  },
  {
   "cell_type": "code",
   "execution_count": 27,
   "metadata": {},
   "outputs": [
    {
     "name": "stderr",
     "output_type": "stream",
     "text": [
      "INFO:cmdstanpy:found newer exe file, not recompiling\n",
      "INFO:cmdstanpy:CmdStan start processing\n",
      "chain 1 |\u001b[34m██████████\u001b[0m| 00:00 Sampling completed                      "
     ]
    },
    {
     "name": "stdout",
     "output_type": "stream",
     "text": [
      "                                                                                "
     ]
    },
    {
     "name": "stderr",
     "output_type": "stream",
     "text": [
      "\n",
      "INFO:cmdstanpy:CmdStan done processing.\n"
     ]
    },
    {
     "name": "stdout",
     "output_type": "stream",
     "text": [
      "\n"
     ]
    },
    {
     "name": "stderr",
     "output_type": "stream",
     "text": [
      "INFO:cmdstanpy:CmdStan start processing\n",
      "chain 1 |\u001b[34m██████████\u001b[0m| 00:00 Sampling completed                      "
     ]
    },
    {
     "name": "stdout",
     "output_type": "stream",
     "text": [
      "                                                                                "
     ]
    },
    {
     "name": "stderr",
     "output_type": "stream",
     "text": [
      "\n",
      "INFO:cmdstanpy:CmdStan done processing.\n"
     ]
    },
    {
     "name": "stdout",
     "output_type": "stream",
     "text": [
      "\n"
     ]
    },
    {
     "name": "stderr",
     "output_type": "stream",
     "text": [
      "INFO:cmdstanpy:CmdStan start processing\n",
      "chain 1 |\u001b[34m██████████\u001b[0m| 00:00 Sampling completed                      "
     ]
    },
    {
     "name": "stdout",
     "output_type": "stream",
     "text": [
      "                                                                                "
     ]
    },
    {
     "name": "stderr",
     "output_type": "stream",
     "text": [
      "\n",
      "INFO:cmdstanpy:CmdStan done processing.\n"
     ]
    },
    {
     "name": "stdout",
     "output_type": "stream",
     "text": [
      "\n"
     ]
    }
   ],
   "source": [
    "model_5 = CmdStanModel(stan_file=\"code_5.stan\")\n",
    "\n",
    "res = []\n",
    "for i in range(1, 4):\n",
    "    data = dict(\n",
    "        N = N,\n",
    "        K = i,\n",
    "        y = sim2.draws_pd().loc[0,f\"y[1]\":f\"y[{N}]\"].values,\n",
    "        X = sim2.draws_pd().loc[:, 'X[1,1]':f'X[{N},{i}]'].values.reshape((N,i))\n",
    "    )\n",
    "    sample=model_5.sample(\n",
    "            data=data,\n",
    "            iter_sampling=1000,\n",
    "            iter_warmup=0,\n",
    "            chains=1,\n",
    "            fixed_param=True,\n",
    "            seed=24072000,\n",
    "            refresh=1000\n",
    "            )\n",
    "    res.append(sample)"
   ]
  },
  {
   "cell_type": "code",
   "execution_count": 31,
   "metadata": {},
   "outputs": [
    {
     "name": "stderr",
     "output_type": "stream",
     "text": [
      "/usr/local/lib/python3.9/site-packages/arviz/stats/stats.py:811: UserWarning: Estimated shape parameter of Pareto distribution is greater than 0.7 for one or more samples. You should consider using a more robust model, this is because importance sampling is less likely to work well if the marginal posterior and LOO posterior are very different. This is more likely to happen with a non-robust model and highly influential observations.\n",
      "  warnings.warn(\n",
      "/usr/local/lib/python3.9/site-packages/arviz/stats/stats.py:811: UserWarning: Estimated shape parameter of Pareto distribution is greater than 0.7 for one or more samples. You should consider using a more robust model, this is because importance sampling is less likely to work well if the marginal posterior and LOO posterior are very different. This is more likely to happen with a non-robust model and highly influential observations.\n",
      "  warnings.warn(\n",
      "/usr/local/lib/python3.9/site-packages/arviz/stats/stats.py:811: UserWarning: Estimated shape parameter of Pareto distribution is greater than 0.7 for one or more samples. You should consider using a more robust model, this is because importance sampling is less likely to work well if the marginal posterior and LOO posterior are very different. This is more likely to happen with a non-robust model and highly influential observations.\n",
      "  warnings.warn(\n"
     ]
    }
   ],
   "source": [
    "loo_comparison = az.compare({\"model_1\": results[0], \"model_2\": results[1], \"model_3\": results[2]}, ic=\"loo\", scale=\"deviance\")\n",
    "waic_comparison = az.compare({\"model_1\": results[0], \"model_2\": results[1], \"model_3\": results[2]}, ic=\"waic\", scale=\"deviance\")"
   ]
  },
  {
   "cell_type": "code",
   "execution_count": 30,
   "metadata": {},
   "outputs": [
    {
     "data": {
      "image/png": "[encoded data removed]",
      "text/plain": [
       "<Figure size 432x216 with 1 Axes>"
      ]
     },
     "metadata": {
      "needs_background": "light"
     },
     "output_type": "display_data"
    }
   ],
   "source": [
    "az.plot_compare(loo_comparison)\n",
    "plt.title(\"LOO comparison\")\n",
    "plt.show()"
   ]
  },
  {
   "cell_type": "code",
   "execution_count": 32,
   "metadata": {},
   "outputs": [
    {
     "data": {
      "image/png": "[encoded data removed]",
      "text/plain": [
       "<Figure size 432x216 with 1 Axes>"
      ]
     },
     "metadata": {
      "needs_background": "light"
     },
     "output_type": "display_data"
    }
   ],
   "source": [
    "az.plot_compare(waic_comparison)\n",
    "plt.title(\"WAIC comparison\")\n",
    "plt.show()"
   ]
  }
 ],
 "metadata": {
  "kernelspec": {
   "display_name": "Python 3",
   "language": "python",
   "name": "python3"
  },
  "language_info": {
   "codemirror_mode": {
    "name": "ipython",
    "version": 3
   },
   "file_extension": ".py",
   "mimetype": "text/x-python",
   "name": "python",
   "nbconvert_exporter": "python",
   "pygments_lexer": "ipython3",
   "version": "3.11.0"
  },
  "orig_nbformat": 4
 },
 "nbformat": 4,
 "nbformat_minor": 2
}
